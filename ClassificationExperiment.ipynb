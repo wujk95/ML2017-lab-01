{
 "cells": [
  {
   "cell_type": "code",
   "execution_count": 46,
   "metadata": {},
   "outputs": [
    {
     "name": "stdout",
     "output_type": "stream",
     "text": [
      "[[ 0.10291054]]\n",
      "[[ 0.09706383]]\n"
     ]
    },
    {
     "data": {
      "image/png": "[encoded data removed]",
      "text/plain": [
       "<matplotlib.figure.Figure at 0x2560c721898>"
      ]
     },
     "metadata": {},
     "output_type": "display_data"
    }
   ],
   "source": [
    "import sklearn\n",
    "import numpy as np\n",
    "import matplotlib.pyplot as plt\n",
    "from sklearn.externals.joblib import Memory\n",
    "from sklearn.datasets import load_svmlight_file\n",
    "\n",
    "mem = Memory(\"./mycache\")\n",
    "\n",
    "@mem.cache\n",
    "def get_data():\n",
    "    data = load_svmlight_file(\"C:/Users/her/Desktop/au.txt\")\n",
    "    return data[0], data[1]\n",
    "\n",
    "X, y = get_data()\n",
    "X = X.todense()\n",
    "\n",
    "from sklearn.model_selection import train_test_split\n",
    "X_train, X_test, y_train, y_test = train_test_split(X, y, test_size=0.2, random_state=0)\n",
    "\n",
    "from numpy import *\n",
    "w = mat(random.rand(14,1))\n",
    "b=np.random.normal()\n",
    "\n",
    "c = 0.1\n",
    "def loss(x,y):\n",
    "    b1 = mat(b)\n",
    "    w1 = vstack((w, b1))\n",
    "    w2=(w.T)*w/2\n",
    "    a = len(x)\n",
    "    k = mat(ones((a, 1)))\n",
    "    x1 = hstack((x, k))\n",
    "    t1 = x1*w1\n",
    "    t2 = t1\n",
    "    for i in range(a):\n",
    "        t1[i,0]=1-y[i]*t1[i,0]\n",
    "    for i in range(a):\n",
    "        t2[i,0]=max(0,t1[i,0])\n",
    "    w3 = 0\n",
    "    for i in range(a):\n",
    "        w3+ = t2[i,0]\n",
    "    return w2+c*w3\n",
    "\n",
    "def gw(x,y):\n",
    "    b1 = mat(b)\n",
    "    w1 = vstack((w, b1))\n",
    "    a = len(x)\n",
    "    k = mat(ones((a, 1)))\n",
    "    x1 = hstack((x, k))\n",
    "    t1 = x1 * w1\n",
    "    x2 = x\n",
    "    x3 = x\n",
    "    for i in range(a):\n",
    "        t1[i, 0] = 1 - y[i] * t1[i, 0]\n",
    "        if(t1[i,0]>=0):\n",
    "            x2[i]=-y[i]*x[i]\n",
    "        else:\n",
    "            x2[i]=0*x[i]\n",
    "    x3[0]=0*x3[0]\n",
    "    for i in range(a):\n",
    "        x3[0]+=x2[i]\n",
    "    return x3[0]\n",
    "\n",
    "def gb(x,y):\n",
    "    b1 = mat(b)\n",
    "    w1 = vstack((w, b1))\n",
    "    a = len(x)\n",
    "    k = mat(ones((a, 1)))\n",
    "    x1 = hstack((x, k))\n",
    "    t1 = x1 * w1\n",
    "    y2=y\n",
    "    for i in range(a):\n",
    "        t1[i, 0] = 1 - y[i] * t1[i, 0]\n",
    "        if (t1[i, 0] >= 0):\n",
    "            y2[i]=-y[i]\n",
    "        else:\n",
    "            y2[i]=0\n",
    "    y1=0\n",
    "    for i in range(a):\n",
    "        y1+=y2[i]\n",
    "    return y1\n",
    "\n",
    "\n",
    "def gradient_w(x,y):\n",
    "    return w.T+c*gw(x,y)\n",
    "\n",
    "def gradient_b(x,y):\n",
    "    return c*gb(x,y)\n",
    "\n",
    "\n",
    "rate=0.001\n",
    "listx=[]\n",
    "listy=[]\n",
    "listz=[]\n",
    "\n",
    "for i in range(300):\n",
    "    w_t = w.T\n",
    "    w_t = w_t-rate*gradient_w(X_train,y_train)\n",
    "    b = b-rate*gradient_b(X_train,y_train)\n",
    "    w = w_t.T\n",
    "    listx.append(i)\n",
    "    a1 = loss(X_train, y_train)\n",
    "    a2 = array(a1)\n",
    "    listy.append(a2[0][0])\n",
    "    b1 = loss(X_test, y_test)\n",
    "    b2 = array(b1)\n",
    "    listz.append(b2[0][0])\n",
    "    \n",
    "print(loss(X_train,y_train)/len(X_train))\n",
    "print(loss(X_test,y_test)/len(X_test))\n",
    "\n",
    "plt.figure('model')\n",
    "plt.plot(listx, listy, label=\"$Ltrain$\", color=\"yellow\")\n",
    "# plt.figure('losstest')\n",
    "plt.plot(listx, listz, label=\"$Lvalidation$\", color=\"red\")\n",
    "plt.title([\"rate=\", rate])\n",
    "plt.legend()\n",
    "plt.show()"
   ]
  },
  {
   "cell_type": "code",
   "execution_count": null,
   "metadata": {},
   "outputs": [],
   "source": []
  },
  {
   "cell_type": "code",
   "execution_count": null,
   "metadata": {},
   "outputs": [],
   "source": []
  },
  {
   "cell_type": "code",
   "execution_count": null,
   "metadata": {},
   "outputs": [],
   "source": [
    "\n",
    "\n"
   ]
  },
  {
   "cell_type": "code",
   "execution_count": null,
   "metadata": {},
   "outputs": [],
   "source": []
  },
  {
   "cell_type": "code",
   "execution_count": null,
   "metadata": {},
   "outputs": [],
   "source": []
  }
 ],
 "metadata": {
  "kernelspec": {
   "display_name": "Python 3",
   "language": "python",
   "name": "python3"
  },
  "language_info": {
   "codemirror_mode": {
    "name": "ipython",
    "version": 3
   },
   "file_extension": ".py",
   "mimetype": "text/x-python",
   "name": "python",
   "nbconvert_exporter": "python",
   "pygments_lexer": "ipython3",
   "version": "3.6.2"
  }
 },
 "nbformat": 4,
 "nbformat_minor": 2
}
