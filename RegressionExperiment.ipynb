{
 "cells": [
  {
   "cell_type": "code",
   "execution_count": 34,
   "metadata": {},
   "outputs": [
    {
     "name": "stdout",
     "output_type": "stream",
     "text": [
      "[[ 19.32646828]]\n",
      "[[ 33.4490231]]\n"
     ]
    },
    {
     "data": {
      "image/png": "[encoded data removed]",
      "text/plain": [
       "<matplotlib.figure.Figure at 0x2560b57f198>"
      ]
     },
     "metadata": {},
     "output_type": "display_data"
    }
   ],
   "source": [
    "import sklearn\n",
    "import numpy as np\n",
    "import matplotlib.pyplot as plt\n",
    "from sklearn.externals.joblib import Memory\n",
    "from sklearn.datasets import load_svmlight_file\n",
    "\n",
    "mem = Memory(\"./mycache\")\n",
    "\n",
    "@mem.cache\n",
    "def get_data():\n",
    "    data = load_svmlight_file(\"C:/Users/her/Desktop/ho.txt\")\n",
    "    return data[0], data[1]\n",
    "\n",
    "X, y = get_data()\n",
    "X = X.todense()\n",
    "\n",
    "#划分训练集和测试集\n",
    "from sklearn.model_selection import train_test_split\n",
    "X_train, X_test, y_train, y_test = train_test_split(X, y, test_size=0.2, random_state=0)\n",
    "\n",
    "from numpy import *\n",
    "w = mat(zeros((13,1)))\n",
    "b = np.random.normal()\n",
    "b1 = mat(b)\n",
    "w1 = vstack((w,b1))\n",
    "\n",
    "#定义loss函数\n",
    "def loss(x,y):\n",
    "    he = mat(ones((len(x),1)))\n",
    "    xx = hstack((x, he))\n",
    "    yy = mat(y).T\n",
    "    z = yy -xx*w1\n",
    "    return (z.T)*z\n",
    "\n",
    "#定义梯度下降\n",
    "def gradient(x,y):\n",
    "    he = mat(ones((len(x), 1)))\n",
    "    xx = hstack((x, he))\n",
    "    xxT = xx.T\n",
    "    yy = mat(y).T\n",
    "    z = xx * w1\n",
    " \n",
    "    return 2 * xxT * (( z - yy ))\n",
    "\n",
    "\n",
    "learnRate = 0.0005   #学习率\n",
    "listx = []\n",
    "listy = []\n",
    "listz = []\n",
    "\n",
    "\n",
    "for i in range(2000):\n",
    "    w1 = w1- learnRate * gradient(X_train,y_train)\n",
    "    listx.append(i)\n",
    "    aaa = loss(X_train,y_train)\n",
    "    aaa2 = array(aaa)\n",
    "    listy.append(aaa2[0][0])\n",
    "    bbb = loss(X_test, y_test)\n",
    "    bbb2 = array(bbb)\n",
    "    listz.append(bbb2[0][0])\n",
    "\n",
    "print(loss(X_train,y_train)/len(X_train))\n",
    "print(loss(X_test,y_test)/len(X_test))\n",
    "    \n",
    "plt.figure('model')\n",
    "plt.plot(listx ,listy, label=\"$Ltrain$\",color=\"yellow\")\n",
    "plt.plot(listx ,listz, label=\"$Lvalidation$\",color=\"red\")\n",
    "plt.legend()\n",
    "plt.show()\n",
    "\n",
    "\n"
   ]
  },
  {
   "cell_type": "code",
   "execution_count": null,
   "metadata": {},
   "outputs": [],
   "source": []
  },
  {
   "cell_type": "code",
   "execution_count": 4,
   "metadata": {},
   "outputs": [
    {
     "name": "stdout",
     "output_type": "stream",
     "text": [
      "  (0, 12)\t-0.596578\n",
      "  (0, 11)\t0.99294\n",
      "  (0, 10)\t-0.148936\n",
      "  (0, 9)\t-0.583969\n",
      "  (0, 8)\t-0.652174\n",
      "  (0, 7)\t-0.724159\n",
      "  (0, 6)\t0.672503\n",
      "  (0, 5)\t0.0940793\n",
      "  (0, 4)\t-0.485597\n",
      "  (0, 3)\t-1.0\n",
      "  (0, 2)\t-0.736804\n",
      "  (0, 1)\t-1.0\n",
      "  (0, 0)\t-0.998079\n",
      "  (1, 12)\t-0.900662\n",
      "  (1, 11)\t1.0\n",
      "  (1, 10)\t0.0638298\n",
      "  (1, 9)\t-0.744275\n",
      "  (1, 8)\t-0.73913\n",
      "  (1, 7)\t-0.463849\n",
      "  (1, 6)\t-0.38208\n",
      "  (1, 5)\t0.225139\n",
      "  (1, 4)\t-0.744856\n",
      "  (1, 3)\t1.0\n",
      "  (1, 2)\t-0.563783\n",
      "  (1, 1)\t-0.2\n",
      "  :\t:\n",
      "  (165, 11)\t0.915931\n",
      "  (165, 10)\t0.787234\n",
      "  (165, 9)\t-0.541985\n",
      "  (165, 8)\t-0.73913\n",
      "  (165, 7)\t-0.434495\n",
      "  (165, 6)\t0.738414\n",
      "  (165, 5)\t0.192949\n",
      "  (165, 4)\t-0.37037\n",
      "  (165, 3)\t-1.0\n",
      "  (165, 2)\t-0.43695\n",
      "  (165, 1)\t-1.0\n",
      "  (165, 0)\t-0.977607\n",
      "  (166, 12)\t-0.769316\n",
      "  (166, 11)\t0.949367\n",
      "  (166, 10)\t-0.914894\n",
      "  (166, 9)\t-0.706107\n",
      "  (166, 8)\t-0.652174\n",
      "  (166, 7)\t-0.789232\n",
      "  (166, 6)\t0.824923\n",
      "  (166, 5)\t0.853612\n",
      "  (166, 4)\t0.0781893\n",
      "  (166, 3)\t-1.0\n",
      "  (166, 2)\t-0.742669\n",
      "  (166, 1)\t-0.6\n",
      "  (166, 0)\t-0.98845\n"
     ]
    }
   ],
   "source": []
  },
  {
   "cell_type": "code",
   "execution_count": 40,
   "metadata": {},
   "outputs": [
    {
     "name": "stdout",
     "output_type": "stream",
     "text": [
      "[[ -5.31343193]\n",
      " [  2.23899847]\n",
      " [  0.07482005]\n",
      " [  1.17040217]\n",
      " [ -3.91803811]\n",
      " [  9.67787896]\n",
      " [ -0.15152821]\n",
      " [ -7.62303516]\n",
      " [  2.80804909]\n",
      " [ -2.87928377]\n",
      " [ -4.91582965]\n",
      " [  1.60815217]\n",
      " [ -8.92940297]\n",
      " [ 11.52578367]]\n",
      "[[ 3411.79701182]]\n"
     ]
    }
   ],
   "source": [
    "\n",
    "\n"
   ]
  },
  {
   "cell_type": "code",
   "execution_count": 45,
   "metadata": {},
   "outputs": [
    {
     "name": "stdout",
     "output_type": "stream",
     "text": [
      "[[-1.        -0.731729  -0.5        0.         0.0769231 -0.25      -0.988421\n",
      "  -1.        -1.        -1.        -1.         0.        -0.84      -1.       ]]\n"
     ]
    }
   ],
   "source": []
  },
  {
   "cell_type": "code",
   "execution_count": null,
   "metadata": {},
   "outputs": [],
   "source": []
  }
 ],
 "metadata": {
  "kernelspec": {
   "display_name": "Python 3",
   "language": "python",
   "name": "python3"
  },
  "language_info": {
   "codemirror_mode": {
    "name": "ipython",
    "version": 3
   },
   "file_extension": ".py",
   "mimetype": "text/x-python",
   "name": "python",
   "nbconvert_exporter": "python",
   "pygments_lexer": "ipython3",
   "version": "3.6.2"
  }
 },
 "nbformat": 4,
 "nbformat_minor": 2
}
